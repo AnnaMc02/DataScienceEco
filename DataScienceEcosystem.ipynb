{
 "cells": [
  {
   "cell_type": "markdown",
   "id": "20e32ccb-16bb-4316-9131-3a0d2d701aac",
   "metadata": {},
   "source": [
    "# Data Science Tools and Ecosystems"
   ]
  },
  {
   "cell_type": "markdown",
   "id": "32b5f8fc-91e1-4caa-8a8d-fdc34761d648",
   "metadata": {
    "tags": []
   },
   "source": [
    "In this notebook, Data science Tools and Ecosystems are summarized."
   ]
  },
  {
   "cell_type": "markdown",
   "id": "838556d0-45b7-47ba-9903-f07b234a7a92",
   "metadata": {},
   "source": [
    "**Objectives**\n",
    "- List popular languages for Data Science\n",
    "- List some of the commonly used libraries for Data Science\n",
    "- Include a table of Data Science Tools\n",
    "- Introduce arithmetic expressions\n",
    "- Include two examples of arithmetic expressions\n"
   ]
  },
  {
   "cell_type": "markdown",
   "id": "3dda52c4-040e-447c-a90b-c96e847a07ef",
   "metadata": {},
   "source": [
    "Some of the popular languagues that Data Scientist use are:\n",
    "1. Python\n",
    "2. Julia\n",
    "3. SQL"
   ]
  },
  {
   "cell_type": "markdown",
   "id": "62d9e2ab-5114-442c-b20c-92f16322c028",
   "metadata": {},
   "source": [
    "Some of the commonly used libraries used by Data Scientists include:\n",
    "1) Pandas\n",
    "2) TensorFlow\n",
    "3) SciKit-Learn"
   ]
  },
  {
   "cell_type": "markdown",
   "id": "e4d840ab-3422-478b-86b8-5b7c0f5df42b",
   "metadata": {},
   "source": [
    "| Data Science Tools|\n",
    "|-------------------|\n",
    "|TensorFlow|\n",
    "|Apache Spark|\n",
    "|RStudio|"
   ]
  },
  {
   "cell_type": "markdown",
   "id": "41ac52ff-b5f5-4d38-8877-75b9b1e8ae1a",
   "metadata": {},
   "source": [
    "### Below are a few examples of evaluating arithmetic expressions in Python"
   ]
  },
  {
   "cell_type": "code",
   "execution_count": 5,
   "id": "03409984-7f86-45bf-a5af-6490c71b0a8a",
   "metadata": {
    "tags": []
   },
   "outputs": [
    {
     "data": {
      "text/plain": [
       "17"
      ]
     },
     "execution_count": 5,
     "metadata": {},
     "output_type": "execute_result"
    }
   ],
   "source": [
    "# This is a simple arithmetic expression to multiply and add integers\n",
    "(3*4)+5"
   ]
  },
  {
   "cell_type": "code",
   "execution_count": 43,
   "id": "c4959770-0558-4fc0-8ed5-e6cc49076aa5",
   "metadata": {
    "tags": []
   },
   "outputs": [
    {
     "name": "stdout",
     "output_type": "stream",
     "text": [
      "3.3333333333333335 hours\n"
     ]
    }
   ],
   "source": [
    "# This will convert 200 minutes to hours by dividng by 60\n",
    "minutes=200\n",
    "hours=minutes/60\n",
    "print(f\"{hours} hours\")\n"
   ]
  },
  {
   "cell_type": "markdown",
   "id": "49c6871f-0662-4e2a-a8fc-058d1afde5ff",
   "metadata": {},
   "source": [
    "## Author\n",
    "Anna McElroy"
   ]
  },
  {
   "cell_type": "code",
   "execution_count": null,
   "id": "35bcd6de-2d5c-4515-89c5-5dce02c8489c",
   "metadata": {},
   "outputs": [],
   "source": []
  }
 ],
 "metadata": {
  "kernelspec": {
   "display_name": "Python",
   "language": "python",
   "name": "conda-env-python-py"
  },
  "language_info": {
   "codemirror_mode": {
    "name": "ipython",
    "version": 3
   },
   "file_extension": ".py",
   "mimetype": "text/x-python",
   "name": "python",
   "nbconvert_exporter": "python",
   "pygments_lexer": "ipython3",
   "version": "3.7.12"
  }
 },
 "nbformat": 4,
 "nbformat_minor": 5
}
